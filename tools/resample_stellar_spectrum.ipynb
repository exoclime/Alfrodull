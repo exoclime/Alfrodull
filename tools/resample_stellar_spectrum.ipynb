{
 "cells": [
  {
   "cell_type": "code",
   "execution_count": null,
   "metadata": {},
   "outputs": [],
   "source": [
    "import h5py\n",
    "\n",
    "import pathlib\n",
    "import re\n",
    "\n",
    "import h5py\n",
    "import imageio\n",
    "import IPython.display as disp\n",
    "\n",
    "import math\n",
    "import numpy as np\n",
    "import scipy\n",
    "\n",
    "from scipy.interpolate import interp1d\n",
    "from scipy.integrate import simps, quad\n",
    "\n",
    "from astropy import constants as const\n",
    "from astropy.modeling import models\n",
    "\n",
    "from astropy import units as u\n",
    "\n",
    "#%matplotlib ipympl\n",
    "%matplotlib inline\n",
    "import matplotlib.pyplot as plt"
   ]
  },
  {
   "cell_type": "code",
   "execution_count": null,
   "metadata": {},
   "outputs": [],
   "source": [
    "stellar_spectrum_orig = pathlib.Path(\"../input/\") / \"stellar_sample_orig.h5\"\n",
    "\n",
    "\n",
    "\n",
    "\n",
    "\n",
    "resampled_stellar_spectrum_path = pathlib.Path(\"../input/\") / \"stellar_spectrum.h5\"\n",
    "\n",
    "opacity_sample = pathlib.Path( \"../input/opac_sample_r50.h5\" )\n",
    "\n"
   ]
  },
  {
   "cell_type": "code",
   "execution_count": null,
   "metadata": {},
   "outputs": [],
   "source": [
    "# get wavelength bin centers\n",
    "with h5py.File(opacity_sample, \"r\") as opac_h5:    \n",
    "                        \n",
    "    # wavelength grid                \n",
    "    try:\n",
    "        opac_wave = [x for x in opac_h5[\"center wavelengths\"][:]]\n",
    "    except KeyError:\n",
    "        opac_wave = [x for x in opac_h5[\"wavelengths\"][:]]\n",
    "        nbin = len(opac_wave)\n",
    "                    \n",
    "                                       \n",
    "    # interface positions of the wavelength bins\n",
    "    try:\n",
    "        opac_interwave = [i for i in opac_h5[\"interface wavelengths\"][:]]\n",
    "    except KeyError:\n",
    "        # quick and dirty way to get the lamda interface values\n",
    "        opac_interwave = []\n",
    "        opac_interwave.append(opac_wave[0] - (opac_wave[1] - opac_wave[0])/2)\n",
    "        for x in range(len(opac_wave) - 1):\n",
    "            opac_interwave.append((opac_wave[x+1] + opac_wave[x])/2)\n",
    "        opac_interwave.append(opac_wave[-1] + (opac_wave[-1] - opac_wave[-2])/2)\n",
    "\n",
    "        # widths of the wavelength bins\n",
    "        try:\n",
    "            opac_deltawave = [w for w in opac_h5[\"wavelength width of bins\"][:]]\n",
    "        except KeyError:\n",
    "            opac_deltawave = []\n",
    "            for x in range(len(opac_interwave) - 1):\n",
    "                opac_deltawave.append(opac_interwave[x + 1] - opac_interwave[x])\n",
    "        \n"
   ]
  },
  {
   "cell_type": "code",
   "execution_count": null,
   "metadata": {},
   "outputs": [],
   "source": [
    "# get input wavelength and spectrum\n",
    "\n",
    "def recursive_key_print(data, level=0):\n",
    "    \n",
    "    for k in data.keys():\n",
    "        if type(data[k]) == h5py.Dataset:\n",
    "                  \n",
    "            print(level*\" \" +\"* \" + k)\n",
    "        else:\n",
    "            print(level*\" \" + \"- \" + k)\n",
    "            recursive_key_print(data[k], level+1)\n",
    "\n",
    "with h5py.File(stellar_spectrum_orig, \"r\") as spectrum_h5:\n",
    "    # inspect a bit\n",
    "    print(\"Keys:\")\n",
    "    recursive_key_print(spectrum_h5)\n",
    "    \n",
    "    \n",
    "    # original spectrum    \n",
    "    orig_spectrum_lambda = spectrum_h5['original']['phoenix']['lambda'][:]\n",
    "    orig_spectrum_flux = spectrum_h5['original']['phoenix']['hd189733'][:]\n",
    "    \n",
    "    # helios spectrum    \n",
    "    helios_spectrum_lambda = spectrum_h5['r50']['lambda'][:]\n",
    "    helios_spectrum_flux = spectrum_h5['r50']['phoenix']['hd189733'][:]\n",
    "    \n",
    "    \n",
    "    # rescale spectrum. Input is in erg*s^-1*cm^-3 we want J*s^-1*m^-3 -> W/m^3\n",
    "    # conversion to W/m³\n",
    "    # orig_spectrum_flux *= 1e-1\n",
    "\n",
    "    # orig wavelength is in um\n",
    "    #orig_spectrum_lambda *= 1e4\n"
   ]
  },
  {
   "cell_type": "code",
   "execution_count": null,
   "metadata": {},
   "outputs": [],
   "source": [
    "print(f\"Original wavelength: min = {np.min(orig_spectrum_lambda)}, max = {np.max(orig_spectrum_lambda)}, num_samples: {orig_spectrum_lambda.shape}\")\n",
    "\n",
    "print(f\"Opacities file wavelength: min = {np.min(opac_wave)}, max = {np.max(opac_wave)}, num_samples: {len(opac_wave)}\")"
   ]
  },
  {
   "cell_type": "code",
   "execution_count": null,
   "metadata": {},
   "outputs": [],
   "source": [
    "# plot original spectrum "
   ]
  },
  {
   "cell_type": "code",
   "execution_count": null,
   "metadata": {},
   "outputs": [],
   "source": [
    "fig, ax = plt.subplots(1,1, figsize=(14,10))\n",
    "\n",
    "\n",
    "\n",
    "for l in opac_wave:\n",
    "    ax.axvline(l, c='r', alpha=0.2)\n",
    "    \n",
    "ax.plot(orig_spectrum_lambda, orig_spectrum_flux)\n",
    "\n",
    "#ax.set_xscale('log')"
   ]
  },
  {
   "cell_type": "code",
   "execution_count": null,
   "metadata": {},
   "outputs": [],
   "source": [
    "\n",
    "C = const.c.cgs.value                   # speed of light in cm / s\n",
    "K_B = const.k_B.cgs.value               # Boltzmann constant in erg / K\n",
    "H = const.h.cgs.value                   # Planck constant in erg s\n",
    "\n",
    "\n",
    "\n",
    "def calc_planck(lamda, temp):\n",
    "    \"\"\" calculates the Planckian blackbody function at a given wavelength and temperature \"\"\"\n",
    "\n",
    "    term1 = 2 * H * C**2 / lamda**5\n",
    "\n",
    "    term2 = np.exp(H * C / (lamda * K_B * temp)) - 1\n",
    "\n",
    "    result = term1 * 1 / term2\n",
    "\n",
    "    return result"
   ]
  },
  {
   "cell_type": "code",
   "execution_count": null,
   "metadata": {},
   "outputs": [],
   "source": [
    "def integrand(x): \n",
    "    return calc_planck(x, 4875)\n",
    "\n",
    "\n",
    "int_planck = []\n",
    "int_planck_lambda = []\n",
    "\n",
    "#lambda_table = orig_spectrum_lambda\n",
    "lambda_table = opac_interwave\n",
    "\n",
    "l_start = opac_interwave[0]\n",
    "\n",
    "for i, l_end in opac_interwave[1:]:\n",
    "    #print(quad(integrand, l_start, l_end)[0])\n",
    "    \n",
    "    int_planck.append(quad(integrand, l_start, l_end)[0]/(l_end-l_start)*math.pi )\n",
    "    \n",
    "    int_planck_lambda.append( (l_start+l_end)/2.0)\n",
    "    \n",
    "    l_start = l_end\n",
    "    "
   ]
  },
  {
   "cell_type": "code",
   "execution_count": null,
   "metadata": {},
   "outputs": [],
   "source": [
    "\n",
    "fig, ax = plt.subplots(1,1, figsize=(14,10))\n",
    "\n",
    "ax.plot(orig_spectrum_lambda, orig_spectrum_flux)\n",
    "ax.plot(helios_spectrum_lambda, helios_spectrum_flux)\n",
    "\n",
    "plank = calc_planck(helios_spectrum_lambda, 4875)\n",
    "\n",
    "\n",
    "ax.plot(opac_wave, int_planck, label=\"integrated planck function\")\n",
    "\n",
    "ax.plot(helios_spectrum_lambda, plank, label=\"planck law\" )\n",
    "\n",
    "ax.set_xscale('log')\n",
    "\n",
    "#ax.set_xlim(1e-3, 1e-2)\n",
    "#ax.set_ylim(-1e11, 1e11)\n",
    "\n",
    "ax.legend()"
   ]
  },
  {
   "cell_type": "code",
   "execution_count": null,
   "metadata": {},
   "outputs": [],
   "source": [
    "fig, ax = plt.subplots(1,1, figsize=(14,10))\n",
    "\n",
    "\n",
    "    \n",
    "ax.plot(orig_spectrum_lambda, orig_spectrum_flux)\n",
    "ax.plot(helios_spectrum_lambda, helios_spectrum_flux)\n",
    "\n",
    "ax.set_xscale('log')\n",
    "\n",
    "ax.set_xlim(2e-3, 2e-2)\n",
    "ax.set_ylim(-1e10, 1e10)"
   ]
  },
  {
   "cell_type": "code",
   "execution_count": null,
   "metadata": {},
   "outputs": [],
   "source": [
    "# interpolate spectrum\n",
    "\n",
    "spectrum_interpolator = interp1d(orig_spectrum_lambda, \n",
    "                                 orig_spectrum_flux, \n",
    "                                 bounds_error=False,\n",
    "                                 fill_value=(orig_spectrum_flux[-1], orig_spectrum_flux[0]) )\n",
    "\n",
    "spectrum_new_flux = spectrum_interpolator(opac_wave)\n"
   ]
  },
  {
   "cell_type": "code",
   "execution_count": null,
   "metadata": {},
   "outputs": [],
   "source": [
    "fig, ax = plt.subplots(1,1, figsize=(14,10))\n",
    "\n",
    "\n",
    "    \n",
    "ax.plot(orig_spectrum_lambda, orig_spectrum_flux)\n",
    "ax.plot(opac_wave, spectrum_new_flux)\n",
    "\n",
    "ax.set_xscale('log')\n",
    "\n",
    "ax.set_xlim(2e-5, 2e-4)"
   ]
  },
  {
   "cell_type": "code",
   "execution_count": null,
   "metadata": {},
   "outputs": [],
   "source": [
    "# integrate spectrum in bins\n",
    "\n",
    "l_start = opac_interwave[0]\n",
    "\n",
    "intg = []\n",
    "\n",
    "# avoid the last points that look funny in the spectrum\n",
    "buf = 20\n",
    "\n",
    "for l_end in opac_interwave[1:]:\n",
    "    integrate_idx_start = np.searchsorted(orig_spectrum_lambda[:-buf], l_start, side='right')\n",
    "    integrate_idx_stop = np.searchsorted(orig_spectrum_lambda[:-buf], l_end, side='left')\n",
    "    if integrate_idx_start == integrate_idx_stop or integrate_idx_stop >= len(orig_spectrum_lambda[:-buf]):\n",
    "        intg.append(quad(integrand, l_start, l_end)[0]/(l_end-l_start)*math.pi)\n",
    "    else:\n",
    "        x_s = orig_spectrum_lambda[integrate_idx_start:integrate_idx_stop]\n",
    "        y_s = orig_spectrum_flux[integrate_idx_start:integrate_idx_stop]\n",
    "    \n",
    "        # interpolate end points\n",
    "        x_s[0] = l_start\n",
    "        x_s[-1] = l_end\n",
    "        y_s[0] = spectrum_interpolator(l_start)\n",
    "        y_s[-1] = spectrum_interpolator(l_end)\n",
    "    \n",
    "        # integrate\n",
    "    \n",
    "        integral = simps(y_s, x_s)\n",
    "        intg.append(integral/(l_end - l_start))\n",
    "    \n",
    "    l_start = l_end\n"
   ]
  },
  {
   "cell_type": "code",
   "execution_count": null,
   "metadata": {},
   "outputs": [],
   "source": [
    "fig, ax = plt.subplots(1,1, figsize=(16,14))\n",
    "\n",
    "\n",
    "b = -20\n",
    "    \n",
    "ax.plot(orig_spectrum_lambda[:b], orig_spectrum_flux[:b], label=\"orig\")\n",
    "ax.plot(opac_wave, intg, label=\"int\")\n",
    "ax.plot(helios_spectrum_lambda, helios_spectrum_flux, label=\"helios\")\n",
    "ax.set_xscale('log')\n",
    "\n",
    "ax.set_xlim(1e-5, 0.6e-3)\n",
    "\n",
    "for l in opac_wave:\n",
    "    ax.axvline(l, c='r', alpha=0.2)\n",
    "    \n",
    "for l in opac_interwave:\n",
    "    ax.axvline(l, c='c', alpha=0.2)\n",
    "\n",
    "l = 8e14\n",
    "#ax.set_ylim(-l, l)\n",
    "\n",
    "ax.legend()"
   ]
  },
  {
   "cell_type": "code",
   "execution_count": null,
   "metadata": {},
   "outputs": [],
   "source": [
    "with h5py.File(resampled_stellar_spectrum_path, \"w\") as f:\n",
    "    lambda_dset = f.create_dataset(\"wavelength\", (len(opac_wave),), dtype=np.float64)\n",
    "    flux_dset = f.create_dataset(\"flux\", spectrum_new_flux.shape, dtype=np.float64)\n",
    "    lambda_dset[...] = opac_wave\n",
    "    flux_dset[...] = spectrum_new_flux"
   ]
  },
  {
   "cell_type": "code",
   "execution_count": null,
   "metadata": {},
   "outputs": [],
   "source": [
    "#p_toa = 1e-4\n",
    "#p_boa = 1e6\n",
    "#nlayer = 100\n",
    "\n",
    "#press_levels = [p_boa * (p_toa/p_boa)**(i/(2 * nlayer - 1)) for i in range(2 * nlayer)]"
   ]
  },
  {
   "cell_type": "code",
   "execution_count": null,
   "metadata": {},
   "outputs": [],
   "source": [
    "fig, ax = plt.subplots(1,1, figsize=(14,10))\n",
    "\n",
    "\n",
    "    \n",
    "ax.plot(orig_spectrum_lambda[1:] - orig_spectrum_lambda[:-1])\n",
    "\n",
    "\n",
    "ax.set_yscale('log')\n",
    "\n",
    "\n"
   ]
  },
  {
   "cell_type": "code",
   "execution_count": null,
   "metadata": {},
   "outputs": [],
   "source": [
    "orig_spectrum_lambda"
   ]
  },
  {
   "cell_type": "code",
   "execution_count": null,
   "metadata": {},
   "outputs": [],
   "source": [
    "len(opac_wave)"
   ]
  },
  {
   "cell_type": "code",
   "execution_count": null,
   "metadata": {},
   "outputs": [],
   "source": []
  }
 ],
 "metadata": {
  "kernelspec": {
   "display_name": "Python 3",
   "language": "python",
   "name": "python3"
  },
  "language_info": {
   "codemirror_mode": {
    "name": "ipython",
    "version": 3
   },
   "file_extension": ".py",
   "mimetype": "text/x-python",
   "name": "python",
   "nbconvert_exporter": "python",
   "pygments_lexer": "ipython3",
   "version": "3.8.5"
  }
 },
 "nbformat": 4,
 "nbformat_minor": 4
}
