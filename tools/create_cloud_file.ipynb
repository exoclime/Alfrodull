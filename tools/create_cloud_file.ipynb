{
 "cells": [
  {
   "cell_type": "markdown",
   "metadata": {},
   "source": [
    "# Álfröðull Cloud input generator"
   ]
  },
  {
   "cell_type": "code",
   "execution_count": null,
   "metadata": {},
   "outputs": [],
   "source": [
    "import h5py\n",
    "\n",
    "import pathlib\n",
    "import re\n",
    "\n",
    "import h5py\n",
    "import imageio\n",
    "import IPython.display as disp\n",
    "\n",
    "import math\n",
    "import numpy as np\n",
    "import scipy\n",
    "\n",
    "import pandas as pd\n",
    "\n",
    "from scipy.interpolate import interp1d\n",
    "from scipy.integrate import simps, quad\n",
    "\n",
    "from astropy import constants as const\n",
    "from astropy.modeling import models\n",
    "\n",
    "from astropy import units as u\n",
    "\n",
    "#%matplotlib ipympl\n",
    "%matplotlib inline\n",
    "import matplotlib.pyplot as plt"
   ]
  },
  {
   "cell_type": "code",
   "execution_count": null,
   "metadata": {},
   "outputs": [],
   "source": [
    "# cloud input file from daniel\n",
    "\n",
    "cloud_input = pathlib.Path(\"../input/cross_sections_mgsio3_r1mu.dat\")\n",
    "opacity_sample = pathlib.Path( \"../input/opac_sample_r5.h5\" )\n",
    "cloud_sample_output = pathlib.Path( \"../input/cloud_sample_r5.h5\" )"
   ]
  },
  {
   "cell_type": "markdown",
   "metadata": {},
   "source": [
    "# Load opacity wavelength bins"
   ]
  },
  {
   "cell_type": "code",
   "execution_count": null,
   "metadata": {},
   "outputs": [],
   "source": [
    "# get wavelength bin centers\n",
    "with h5py.File(opacity_sample, \"r\") as opac_h5:    \n",
    "                        \n",
    "    # wavelength grid                \n",
    "    try:\n",
    "        opac_wave = [x for x in opac_h5[\"center wavelengths\"][:]]\n",
    "    except KeyError:\n",
    "        opac_wave = [x for x in opac_h5[\"wavelengths\"][:]]\n",
    "        nbin = len(opac_wave)\n",
    "                    \n",
    "                                       \n",
    "    # interface positions of the wavelength bins\n",
    "    try:\n",
    "        opac_interwave = [i for i in opac_h5[\"interface wavelengths\"][:]]\n",
    "    except KeyError:\n",
    "        # quick and dirty way to get the lamda interface values\n",
    "        opac_interwave = []\n",
    "        opac_interwave.append(opac_wave[0] - (opac_wave[1] - opac_wave[0])/2)\n",
    "        for x in range(len(opac_wave) - 1):\n",
    "            opac_interwave.append((opac_wave[x+1] + opac_wave[x])/2)\n",
    "        opac_interwave.append(opac_wave[-1] + (opac_wave[-1] - opac_wave[-2])/2)\n",
    "\n",
    "        # widths of the wavelength bins\n",
    "        try:\n",
    "            opac_deltawave = [w for w in opac_h5[\"wavelength width of bins\"][:]]\n",
    "        except KeyError:\n",
    "            opac_deltawave = []\n",
    "            for x in range(len(opac_interwave) - 1):\n",
    "                opac_deltawave.append(opac_interwave[x + 1] - opac_interwave[x])\n",
    "        \n"
   ]
  },
  {
   "cell_type": "code",
   "execution_count": null,
   "metadata": {},
   "outputs": [],
   "source": [
    "# convert units :\n",
    "opac_bin_centers_wavelengths = np.array(opac_wave)*1e-2\n",
    "opac_bin_interfaces_wavelengths = np.array(opac_interwave)*1e-2\n",
    "\n",
    "print(f\"Found {len(opac_bin_centers_wavelengths)} opacity wavelength bins\")\n",
    "print(f\"from {opac_bin_interfaces_wavelengths[0]} m to {opac_bin_interfaces_wavelengths[-1]} m \")"
   ]
  },
  {
   "cell_type": "markdown",
   "metadata": {},
   "source": [
    "# Load cloud data"
   ]
  },
  {
   "cell_type": "code",
   "execution_count": null,
   "metadata": {},
   "outputs": [],
   "source": [
    "\n",
    "#wavelengths (mu)\n",
    "#size parameter  \n",
    "#extinction cross section (cm^2)  \n",
    "#scattering cross section (cm^2)  \n",
    "#absorption cross section (cm^2)  \n",
    "#single scattering albedo         \n",
    "#asymmetry parameter  \n",
    "\n",
    "names = [\n",
    "\"wavelengths\",\n",
    "\"size_parameter\",\n",
    "\"extinction_cross_section\",\n",
    "\"scattering_cross_section\",\n",
    "\"absorption_cross_section\",\n",
    "\"single_scattering_albedo\",\n",
    "\"asymmetry_parameter\" ]\n",
    "\n",
    "cloud_input_data = pd.read_csv(cloud_input, sep='\\s+', header=None, skiprows=1, names=names)\n"
   ]
  },
  {
   "cell_type": "code",
   "execution_count": null,
   "metadata": {},
   "outputs": [],
   "source": [
    "# visual check of the content\n",
    "cloud_input_data"
   ]
  },
  {
   "cell_type": "markdown",
   "metadata": {},
   "source": [
    "### load and convert to SI"
   ]
  },
  {
   "cell_type": "code",
   "execution_count": null,
   "metadata": {},
   "outputs": [],
   "source": [
    "cloud_wavelength = cloud_input_data['wavelengths'].values*1e-6\n",
    "cloud_absorption = cloud_input_data['absorption_cross_section'].values*1e-4\n",
    "cloud_scattering = cloud_input_data[\"scattering_cross_section\"].values*1e-4\n",
    "\n",
    "cloud_asymmetry = cloud_input_data['asymmetry_parameter'].values\n",
    "\n",
    "print(f\"Found {len(cloud_wavelength)} bins\")\n",
    "print(f\"from {cloud_wavelength[0]} m to {cloud_wavelength[-1]} m\")"
   ]
  },
  {
   "cell_type": "markdown",
   "metadata": {},
   "source": [
    "# interpolate to opacity bin centers\n"
   ]
  },
  {
   "cell_type": "code",
   "execution_count": null,
   "metadata": {},
   "outputs": [],
   "source": [
    "interpkind = 'cubic'\n",
    "\n",
    "cloud_absorption_out = interp1d(cloud_wavelength, \n",
    "                                 cloud_absorption, \n",
    "                                 bounds_error=False,\n",
    "                                 kind=interpkind,\n",
    "                                 fill_value='extrapolate' )(opac_bin_centers_wavelengths)\n",
    "\n",
    "cloud_absorption_log_out = np.exp(interp1d(cloud_wavelength, \n",
    "                                 np.log(cloud_absorption), \n",
    "                                 bounds_error=False,\n",
    "                                 kind=interpkind,\n",
    "                                 fill_value='extrapolate' )(opac_bin_centers_wavelengths))\n",
    "\n",
    "cloud_absorption_loglog_out = np.exp(interp1d(np.log(cloud_wavelength), \n",
    "                                 np.log(cloud_absorption), \n",
    "                                 bounds_error=False,\n",
    "                                 kind=interpkind,\n",
    "                                 fill_value='extrapolate' )(np.log(opac_bin_centers_wavelengths)))\n",
    "\n",
    "cloud_absorption_loglin_out = interp1d(np.log(cloud_wavelength), \n",
    "                                 cloud_absorption, \n",
    "                                 bounds_error=False,\n",
    "                                 kind=interpkind,\n",
    "                                 fill_value='extrapolate' )(np.log(opac_bin_centers_wavelengths))"
   ]
  },
  {
   "cell_type": "code",
   "execution_count": null,
   "metadata": {},
   "outputs": [],
   "source": [
    "cloud_scattering_out = interp1d(cloud_wavelength, \n",
    "                                 cloud_scattering, \n",
    "                                 bounds_error=False,\n",
    "                                 kind=interpkind,\n",
    "                                 fill_value='extrapolate' )(opac_bin_centers_wavelengths)\n",
    "\n",
    "cloud_scattering_log_out = np.exp(interp1d(cloud_wavelength, \n",
    "                                 np.log(cloud_scattering), \n",
    "                                 bounds_error=False,\n",
    "                                 kind=interpkind,\n",
    "                                 fill_value='extrapolate' )(opac_bin_centers_wavelengths))\n",
    "                                     \n",
    "cloud_scattering_loglog_out = np.exp(interp1d(np.log(cloud_wavelength), \n",
    "                                 np.log(cloud_scattering), \n",
    "                                 bounds_error=False,\n",
    "                                 kind=interpkind,\n",
    "                                 fill_value='extrapolate' )(np.log(opac_bin_centers_wavelengths)))\n",
    "\n",
    "cloud_scattering_loglin_out = interp1d(np.log(cloud_wavelength), \n",
    "                                 cloud_scattering, \n",
    "                                 bounds_error=False,\n",
    "                                 kind=interpkind,\n",
    "                                 fill_value='extrapolate' )(np.log(opac_bin_centers_wavelengths))"
   ]
  },
  {
   "cell_type": "code",
   "execution_count": null,
   "metadata": {},
   "outputs": [],
   "source": [
    "cloud_asymmetry_out = interp1d(cloud_wavelength, \n",
    "                                 cloud_asymmetry, \n",
    "                                 bounds_error=False,\n",
    "                                 kind=interpkind,\n",
    "                                 fill_value='extrapolate' )(opac_bin_centers_wavelengths)\n",
    "\n",
    "cloud_asymmetry_loglin_out = interp1d(np.log(cloud_wavelength), \n",
    "                                 cloud_asymmetry, \n",
    "                                 bounds_error=False,\n",
    "                                 kind=interpkind,\n",
    "                                 fill_value='extrapolate' )(np.log(opac_bin_centers_wavelengths))\n",
    "\n",
    "cloud_asymmetry_loglog_out = np.exp(interp1d(np.log(cloud_wavelength), \n",
    "                                 np.log(cloud_asymmetry), \n",
    "                                 bounds_error=False,\n",
    "                                 kind=interpkind,\n",
    "                                 fill_value='extrapolate' )(np.log(opac_bin_centers_wavelengths)))"
   ]
  },
  {
   "cell_type": "markdown",
   "metadata": {},
   "source": [
    "# plots"
   ]
  },
  {
   "cell_type": "markdown",
   "metadata": {},
   "source": [
    "#### check of bin repartition"
   ]
  },
  {
   "cell_type": "code",
   "execution_count": null,
   "metadata": {},
   "outputs": [],
   "source": [
    "fig, ax_lambda = plt.subplots(1,1, figsize=(14,10))\n",
    "\n",
    "ax_lambda.plot(cloud_wavelength, marker='+', linestyle='None', label='cloud input')\n",
    "ax_lambda.plot(opac_bin_centers_wavelengths, marker='+', linestyle='None', label='opacity input')\n",
    "\n",
    "ax_lambda.set_yscale('log')\n",
    "\n",
    "ax_lambda.set_xlabel('index')\n",
    "ax_lambda.set_ylabel('Wavelength [m]')\n",
    "\n",
    "ax_lambda.legend();"
   ]
  },
  {
   "cell_type": "markdown",
   "metadata": {},
   "source": [
    "### Absorption"
   ]
  },
  {
   "cell_type": "code",
   "execution_count": null,
   "metadata": {},
   "outputs": [],
   "source": [
    "def plt_func(ax, x_axes, y_axes, labels, xlabel, ylabel, markers, xscale, yscale):\n",
    "    \n",
    "    for x, y, l, m in zip(x_axes, y_axes, labels, markers):\n",
    "        ax.plot(x, y, marker=m, label=l)\n",
    "\n",
    "    ax.set_xscale(xscale)\n",
    "    ax.set_yscale(yscale)\n",
    "    ax.set_xlabel(xlabel)\n",
    "    ax.set_ylabel(ylabel)\n",
    "    ax.legend()"
   ]
  },
  {
   "cell_type": "code",
   "execution_count": null,
   "metadata": {},
   "outputs": [],
   "source": [
    "fig, (ax_g0_lin, ax_g0_log) = plt.subplots(1,2, figsize=(2*14,10))\n",
    "\n",
    "\n",
    "plt_func(ax_g0_lin, \n",
    "         [cloud_wavelength,opac_bin_centers_wavelengths,opac_bin_centers_wavelengths,opac_bin_centers_wavelengths,opac_bin_centers_wavelengths,opac_bin_centers_wavelengths],\n",
    "         [cloud_absorption, cloud_absorption_out, cloud_absorption_log_out, cloud_absorption_loglog_out, cloud_absorption_loglin_out],\n",
    "         ['orig', 'interp', 'interp_log', 'interp_loglog', 'interp_loglin'],\n",
    "         \"Wavelength [m]\",\n",
    "         \"absorption cross section [$m^{-2}$]\",\n",
    "         ['+', 'x', '1', '2', '3'],\n",
    "         'log',\n",
    "         'linear' )\n",
    "\n",
    "plt_func(ax_g0_log, \n",
    "         [cloud_wavelength,opac_bin_centers_wavelengths,opac_bin_centers_wavelengths,opac_bin_centers_wavelengths,opac_bin_centers_wavelengths,opac_bin_centers_wavelengths],\n",
    "         [cloud_absorption, cloud_absorption_out, cloud_absorption_log_out, cloud_absorption_loglog_out, cloud_absorption_loglin_out],\n",
    "         ['orig', 'interp', 'interp_log', 'interp_loglog', 'interp_loglin'],\n",
    "         \"Wavelength [m]\",\n",
    "         \"absorption cross section [$m^{-2}$]\",\n",
    "         ['+', 'x', '1', '2', '3'],\n",
    "         'log',\n",
    "         'log' )\n",
    "\n",
    "pass"
   ]
  },
  {
   "cell_type": "markdown",
   "metadata": {},
   "source": [
    "### Scattering"
   ]
  },
  {
   "cell_type": "code",
   "execution_count": null,
   "metadata": {},
   "outputs": [],
   "source": [
    "fig, (ax_sigma_scat_lin, ax_sigma_scat_log) = plt.subplots(1,2, figsize=(2*14,10))\n",
    "\n",
    "\n",
    "plt_func(ax_sigma_scat_lin, \n",
    "         [cloud_wavelength,opac_bin_centers_wavelengths,opac_bin_centers_wavelengths,opac_bin_centers_wavelengths,opac_bin_centers_wavelengths,opac_bin_centers_wavelengths],\n",
    "         [cloud_scattering, cloud_scattering_out, cloud_scattering_log_out, cloud_scattering_loglog_out, cloud_scattering_loglin_out],\n",
    "         ['orig', 'interp', 'interp_log', 'interp_loglog', 'interp_loglin'],\n",
    "         \"Wavelength [m]\",\n",
    "         \"scattering_cross_section [$m^{-2}$]\",\n",
    "         ['+', 'x', '1', '2', '3'],\n",
    "         'log',\n",
    "         'linear' )\n",
    "\n",
    "plt_func(ax_sigma_scat_log, \n",
    "         [cloud_wavelength,opac_bin_centers_wavelengths,opac_bin_centers_wavelengths,opac_bin_centers_wavelengths,opac_bin_centers_wavelengths,opac_bin_centers_wavelengths],\n",
    "         [cloud_scattering, cloud_scattering_out, cloud_scattering_log_out, cloud_scattering_loglog_out, cloud_scattering_loglin_out],\n",
    "         ['orig', 'interp', 'interp_log', 'interp_loglog', 'interp_loglin'],\n",
    "         \"Wavelength [m]\",\n",
    "         \"scattering_cross_section [$m^{-2}$]\",\n",
    "         ['+', 'x', '1', '2', '3'],\n",
    "         'log',\n",
    "         'log' )\n",
    "\n"
   ]
  },
  {
   "cell_type": "markdown",
   "metadata": {},
   "source": [
    "### asymmetry"
   ]
  },
  {
   "cell_type": "code",
   "execution_count": null,
   "metadata": {},
   "outputs": [],
   "source": [
    "fig, (ax_sigma_abs_lin, ax_sigma_abs_log)  = plt.subplots(1, 2, figsize=(2*14,10))\n",
    "\n",
    "plt_func(ax_sigma_abs_lin, \n",
    "         [cloud_wavelength,opac_bin_centers_wavelengths,opac_bin_centers_wavelengths,opac_bin_centers_wavelengths],\n",
    "         [cloud_asymmetry, cloud_asymmetry_out, cloud_asymmetry_loglin_out, cloud_asymmetry_loglog_out],\n",
    "         ['orig', 'interp', 'interp_loglin', 'interp_loglog'],\n",
    "         \"Wavelength [m]\",\n",
    "         \"asymmetry parameter\",\n",
    "         ['+', 'x', '1', '2'],\n",
    "         'log',\n",
    "         'linear' )\n",
    "\n",
    "plt_func(ax_sigma_abs_log, \n",
    "         [cloud_wavelength,opac_bin_centers_wavelengths,opac_bin_centers_wavelengths,opac_bin_centers_wavelengths],\n",
    "         [cloud_asymmetry, cloud_asymmetry_out, cloud_asymmetry_loglin_out, cloud_asymmetry_loglog_out],\n",
    "         ['orig', 'interp', 'interp_loglin', 'interp_loglog'],\n",
    "         \"Wavelength [m]\",\n",
    "         \"asymmetry parameter\",\n",
    "         ['+', 'x', '1', '2'],\n",
    "         'log',\n",
    "         'log' )\n",
    "\n",
    "\n",
    "\n",
    "\n",
    "pass"
   ]
  },
  {
   "cell_type": "code",
   "execution_count": null,
   "metadata": {},
   "outputs": [],
   "source": [
    "with h5py.File(cloud_sample_output, \"w\") as f:\n",
    "    lambda_dset = f.create_dataset(\"wavelength\", (len(opac_bin_centers_wavelengths),), dtype=np.float64)\n",
    "    absorption_dset = f.create_dataset(\"absorption\", cloud_absorption_loglog_out.shape, dtype=np.float64)\n",
    "    scattering_dset = f.create_dataset(\"scattering\", cloud_scattering_loglog_out.shape, dtype=np.float64)\n",
    "    asymmetry_dset = f.create_dataset(\"asymmetry\", cloud_asymmetry_loglog_out.shape, dtype=np.float64)\n",
    "    lambda_dset[...] = opac_bin_centers_wavelengths\n",
    "    absorption_dset[...] = cloud_absorption_loglog_out\n",
    "    scattering_dset[...] = cloud_scattering_loglog_out\n",
    "    asymmetry_dset[...] = cloud_asymmetry_loglog_out\n",
    "    \n",
    "    "
   ]
  },
  {
   "cell_type": "code",
   "execution_count": null,
   "metadata": {},
   "outputs": [],
   "source": []
  }
 ],
 "metadata": {
  "kernelspec": {
   "display_name": "Python 3",
   "language": "python",
   "name": "python3"
  },
  "language_info": {
   "codemirror_mode": {
    "name": "ipython",
    "version": 3
   },
   "file_extension": ".py",
   "mimetype": "text/x-python",
   "name": "python",
   "nbconvert_exporter": "python",
   "pygments_lexer": "ipython3",
   "version": "3.8.5"
  }
 },
 "nbformat": 4,
 "nbformat_minor": 4
}
