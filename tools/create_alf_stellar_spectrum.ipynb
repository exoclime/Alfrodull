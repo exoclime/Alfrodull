{
 "cells": [
  {
   "cell_type": "markdown",
   "metadata": {},
   "source": [
    "# Spectrum\n",
    "\n",
    "Script to load a spectrum from PHOENIX and output it as Alfrodull spectrum, resampled to alfrodull input"
   ]
  },
  {
   "cell_type": "code",
   "execution_count": null,
   "metadata": {},
   "outputs": [],
   "source": [
    "from ftplib import FTP\n",
    "import tempfile\n",
    "\n",
    "from pathlib import Path\n",
    "import numpy as np\n",
    "\n",
    "from phoenix import create_interpolated_spectrum\n",
    "from alfrodull_input_tools import load_opacities_wavelength_bins, rebin_spectrum\n",
    "#%matplotlib ipympl\n",
    "%matplotlib inline\n",
    "import matplotlib.pyplot as plt\n",
    "import math\n",
    "import h5py"
   ]
  },
  {
   "cell_type": "markdown",
   "metadata": {},
   "source": [
    "## Config data"
   ]
  },
  {
   "cell_type": "code",
   "execution_count": null,
   "metadata": {},
   "outputs": [],
   "source": [
    "# target data\n",
    "Teff = 4798\n",
    "logg = 4.55\n",
    "FeH = -0.13 \n",
    "alphaM = 0.0\n",
    "\n",
    "# opacity input to use for \n",
    "opacity_samples_file = Path( \"../input/opac_sample_r50.h5\" )\n",
    "opacity_samples_is_CGS = True\n",
    "\n",
    "# output\n",
    "output_dir = Path(\"../input\")\n",
    "resampled_stellar_spectrum_path = output_dir / \"stellar_sample_wasp43.h5\"\n",
    "\n",
    "output_phoenix_interpolated_spectrum = False\n"
   ]
  },
  {
   "cell_type": "markdown",
   "metadata": {},
   "source": [
    "### Load and interpolate the PHOENIX spectrum"
   ]
  },
  {
   "cell_type": "code",
   "execution_count": null,
   "metadata": {},
   "outputs": [],
   "source": [
    "wavelengths, spectrum = create_interpolated_spectrum(Teff, logg, FeH, alphaM)"
   ]
  },
  {
   "cell_type": "markdown",
   "metadata": {},
   "source": [
    "### Output the interpolated spectrum"
   ]
  },
  {
   "cell_type": "code",
   "execution_count": null,
   "metadata": {},
   "outputs": [],
   "source": [
    "fig, ax = plt.subplots(1,1, figsize=(14,10))\n",
    "\n",
    "ax.plot(1e6*wavelengths, spectrum)\n",
    "ax.grid(True)\n",
    "\n",
    "ax.set_xlabel(\"Wavelength [$um$]\")\n",
    "ax.set_ylabel(\"Flux [$J s^{-1} m^{-2} m^{-1}$]\")\n",
    "\n",
    "pass"
   ]
  },
  {
   "cell_type": "code",
   "execution_count": null,
   "metadata": {},
   "outputs": [],
   "source": [
    "# to output the phoenix spectrum\n",
    "if output_phoenix_interpolated_spectrum:\n",
    "    with h5py.File(\"interpolated_phoenix_stellar_spectrum.h5\", \"w\") as f:\n",
    "        lambda_dset = f.create_dataset(\"wavelength\", (len(wavelengths),), dtype=np.float64)        \n",
    "        flux_dset = f.create_dataset(\"flux\", spectrum.shape, dtype=np.float64)\n",
    "        lambda_dset[...] = wavelengths\n",
    "        flux_dset[...] = spectrum\n"
   ]
  },
  {
   "cell_type": "markdown",
   "metadata": {},
   "source": [
    "## Load the opacity grid and get the interfaces"
   ]
  },
  {
   "cell_type": "code",
   "execution_count": null,
   "metadata": {},
   "outputs": [],
   "source": [
    "opac_wavelengths_centers, opac_wavelength_interfaces = load_opacities_wavelength_bins(opacity_samples_file)\n",
    "\n",
    "# change wavelength unit to SI\n",
    "if opacity_samples_is_CGS:\n",
    "    opac_wavelengths_centers *= 1e-2\n",
    "    opac_wavelength_interfaces *= 1e-2\n",
    "\n",
    "print(f\"from {opac_wavelength_interfaces[0]} m to {opac_wavelength_interfaces[-1]} m \")"
   ]
  },
  {
   "cell_type": "markdown",
   "metadata": {},
   "source": [
    "## Interpolate stellar spectrum to new interfaces"
   ]
  },
  {
   "cell_type": "code",
   "execution_count": null,
   "metadata": {},
   "outputs": [],
   "source": [
    "rebinned_spectrum = rebin_spectrum(opac_wavelength_interfaces, wavelengths, spectrum, Teff)"
   ]
  },
  {
   "cell_type": "code",
   "execution_count": null,
   "metadata": {},
   "outputs": [],
   "source": [
    "fig, ax = plt.subplots(1,1, figsize=(14,10))\n",
    "\n",
    "ax.plot(wavelengths*1e6, spectrum, label=\"Phoenix\")\n",
    "ax.plot(opac_wavelengths_centers*1e6, rebinned_spectrum, label=\"Rebinned\")\n",
    "\n",
    "ax.grid(True)\n",
    "\n",
    "ax.set_xlim(0,4)\n",
    "ax.legend()\n",
    "\n",
    "ax.set_xlabel(\"wavelength [um]\")\n",
    "ax.set_ylabel(\"Flux [$J s^{-1} m^{-2} m^{-1}$]\")\n",
    "\n",
    "pass"
   ]
  },
  {
   "cell_type": "code",
   "execution_count": null,
   "metadata": {},
   "outputs": [],
   "source": [
    "with h5py.File(resampled_stellar_spectrum_path, \"w\") as f:\n",
    "    lambda_dset = f.create_dataset(\"wavelength\", (len(opac_wavelengths_centers),), dtype=np.float64)\n",
    "    flux_dset = f.create_dataset(\"flux\", rebinned_spectrum.shape, dtype=np.float64)\n",
    "    lambda_dset[...] = opac_wavelengths_centers\n",
    "    flux_dset[...] = rebinned_spectrum"
   ]
  },
  {
   "cell_type": "code",
   "execution_count": null,
   "metadata": {},
   "outputs": [],
   "source": []
  },
  {
   "cell_type": "code",
   "execution_count": null,
   "metadata": {},
   "outputs": [],
   "source": []
  },
  {
   "cell_type": "code",
   "execution_count": null,
   "metadata": {},
   "outputs": [],
   "source": []
  }
 ],
 "metadata": {
  "kernelspec": {
   "display_name": "Python 3",
   "language": "python",
   "name": "python3"
  },
  "language_info": {
   "codemirror_mode": {
    "name": "ipython",
    "version": 3
   },
   "file_extension": ".py",
   "mimetype": "text/x-python",
   "name": "python",
   "nbconvert_exporter": "python",
   "pygments_lexer": "ipython3",
   "version": "3.8.5"
  }
 },
 "nbformat": 4,
 "nbformat_minor": 4
}
