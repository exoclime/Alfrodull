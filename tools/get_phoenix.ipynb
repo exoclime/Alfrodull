{
 "cells": [
  {
   "cell_type": "code",
   "execution_count": null,
   "metadata": {},
   "outputs": [],
   "source": [
    "from ftplib import FTP\n",
    "import tempfile\n",
    "\n",
    "from pathlib import Path\n",
    "import numpy as np\n",
    "\n",
    "from astropy.io import fits\n",
    "\n",
    "from scipy.interpolate import interpn\n",
    "\n",
    "#%matplotlib ipympl\n",
    "%matplotlib inline\n",
    "import matplotlib.pyplot as plt\n",
    "\n",
    "import h5py"
   ]
  },
  {
   "cell_type": "code",
   "execution_count": null,
   "metadata": {},
   "outputs": [],
   "source": [
    "# target data\n",
    "Teff = 4970\n",
    "logg = 3.32\n",
    "FeH = 0.03\n",
    "alphaM = 0.0\n",
    "\n",
    "def get_interp_indices(val, lst):\n",
    "    npl = np.array(lst)\n",
    "    lo = np.searchsorted(npl, val, side='right', sorter = None)-1\n",
    "    hi = np.searchsorted(npl, val, side='left', sorter = None)\n",
    "    return lo, hi\n",
    "    \n",
    "\n"
   ]
  },
  {
   "cell_type": "code",
   "execution_count": null,
   "metadata": {},
   "outputs": [],
   "source": []
  },
  {
   "cell_type": "code",
   "execution_count": null,
   "metadata": {},
   "outputs": [],
   "source": [
    "Teffs = list(range(2300, 7001, 100)) + list(range(7000, 12001, 200))\n",
    "loggs = [ x/10 for x in range(0, 61, 5)]  # loggs (unnamed param in filename) [0.0 -> 6.0]\n",
    "FeHs = [ -4.0, -3.0, -2.0, -1.5, -1.0, -0.5, 0.0, 0.5, 1.0] # Z [-4.0 -> +1.0]\n",
    "alphaMs = [-0.2, 0.0, 0.2, 0.4, 0.6, 0.8, 1.0, 1.2] # [-0.2 -> +1.2]"
   ]
  },
  {
   "cell_type": "code",
   "execution_count": null,
   "metadata": {},
   "outputs": [],
   "source": [
    "alphaM_lohi = get_interp_indices(alphaM, alphaMs)\n",
    "FeH_lohi = get_interp_indices(FeH, FeHs)\n",
    "logg_lohi = get_interp_indices(logg, loggs)\n",
    "Teff_lohi = get_interp_indices(Teff, Teffs)\n",
    "\n"
   ]
  },
  {
   "cell_type": "code",
   "execution_count": null,
   "metadata": {},
   "outputs": [],
   "source": [
    "def makeftppath(Z, alpha, logg, teff):\n",
    "    if alpha == 0.0: \n",
    "        if Z == 0.0:\n",
    "            basedir = f\"Z-{Z:1.1f}\"\n",
    "            filename = f\"lte{teff:05d}-{logg:1.2f}-{Z:1.1f}.PHOENIX-ACES-AGSS-COND-2011-HiRes.fits\"\n",
    "        else:\n",
    "            basedir = f\"Z{Z:+1.1f}\"\n",
    "            filename = f\"lte{teff:05d}-{logg:1.2f}{Z:+1.1f}.PHOENIX-ACES-AGSS-COND-2011-HiRes.fits\"\n",
    "    else:\n",
    "        basedir = f\"Z-{abs(Z):1.1f}.Alpha={alpha:+1.2f}\"\n",
    "        filename = f\"lte{teff:05d}-{logg:1.2f}{Z:+1.1f}.Alpha={alpha:+1.2f}.PHOENIX-ACES-AGSS-COND-2011-HiRes.fits\"\n",
    "    \n",
    "    return basedir, filename"
   ]
  },
  {
   "cell_type": "code",
   "execution_count": null,
   "metadata": {},
   "outputs": [],
   "source": [
    "files = [\n",
    "    makeftppath(FeHs[FeH_lohi[0]], alphaMs[alphaM_lohi[0]], loggs[logg_lohi[0]], Teffs[Teff_lohi[0]]),\n",
    "    makeftppath(FeHs[FeH_lohi[0]], alphaMs[alphaM_lohi[0]], loggs[logg_lohi[0]], Teffs[Teff_lohi[1]]),\n",
    "    makeftppath(FeHs[FeH_lohi[0]], alphaMs[alphaM_lohi[0]], loggs[logg_lohi[1]], Teffs[Teff_lohi[0]]),\n",
    "    makeftppath(FeHs[FeH_lohi[0]], alphaMs[alphaM_lohi[0]], loggs[logg_lohi[1]], Teffs[Teff_lohi[1]]),\n",
    "    makeftppath(FeHs[FeH_lohi[0]], alphaMs[alphaM_lohi[1]], loggs[logg_lohi[0]], Teffs[Teff_lohi[0]]),\n",
    "    makeftppath(FeHs[FeH_lohi[0]], alphaMs[alphaM_lohi[1]], loggs[logg_lohi[0]], Teffs[Teff_lohi[1]]),\n",
    "    makeftppath(FeHs[FeH_lohi[0]], alphaMs[alphaM_lohi[1]], loggs[logg_lohi[1]], Teffs[Teff_lohi[0]]),\n",
    "    makeftppath(FeHs[FeH_lohi[0]], alphaMs[alphaM_lohi[1]], loggs[logg_lohi[1]], Teffs[Teff_lohi[1]]),\n",
    "    \n",
    "    makeftppath(FeHs[FeH_lohi[1]], alphaMs[alphaM_lohi[0]], loggs[logg_lohi[0]], Teffs[Teff_lohi[0]]),\n",
    "    makeftppath(FeHs[FeH_lohi[1]], alphaMs[alphaM_lohi[0]], loggs[logg_lohi[0]], Teffs[Teff_lohi[1]]),\n",
    "    makeftppath(FeHs[FeH_lohi[1]], alphaMs[alphaM_lohi[0]], loggs[logg_lohi[1]], Teffs[Teff_lohi[0]]),\n",
    "    makeftppath(FeHs[FeH_lohi[1]], alphaMs[alphaM_lohi[0]], loggs[logg_lohi[1]], Teffs[Teff_lohi[1]]),\n",
    "    makeftppath(FeHs[FeH_lohi[1]], alphaMs[alphaM_lohi[1]], loggs[logg_lohi[0]], Teffs[Teff_lohi[0]]),\n",
    "    makeftppath(FeHs[FeH_lohi[1]], alphaMs[alphaM_lohi[1]], loggs[logg_lohi[0]], Teffs[Teff_lohi[1]]),\n",
    "    makeftppath(FeHs[FeH_lohi[1]], alphaMs[alphaM_lohi[1]], loggs[logg_lohi[1]], Teffs[Teff_lohi[0]]),\n",
    "    makeftppath(FeHs[FeH_lohi[1]], alphaMs[alphaM_lohi[1]], loggs[logg_lohi[1]], Teffs[Teff_lohi[1]]),\n",
    "\n",
    "        ]\n",
    "\n",
    "grid = [\n",
    "    (FeHs[FeH_lohi[0]], alphaMs[alphaM_lohi[0]], loggs[logg_lohi[0]], Teffs[Teff_lohi[0]]),\n",
    "    (FeHs[FeH_lohi[0]], alphaMs[alphaM_lohi[0]], loggs[logg_lohi[0]], Teffs[Teff_lohi[1]]),\n",
    "    (FeHs[FeH_lohi[0]], alphaMs[alphaM_lohi[0]], loggs[logg_lohi[1]], Teffs[Teff_lohi[0]]),\n",
    "    (FeHs[FeH_lohi[0]], alphaMs[alphaM_lohi[0]], loggs[logg_lohi[1]], Teffs[Teff_lohi[1]]),\n",
    "    (FeHs[FeH_lohi[0]], alphaMs[alphaM_lohi[1]], loggs[logg_lohi[0]], Teffs[Teff_lohi[0]]),\n",
    "    (FeHs[FeH_lohi[0]], alphaMs[alphaM_lohi[1]], loggs[logg_lohi[0]], Teffs[Teff_lohi[1]]),\n",
    "    (FeHs[FeH_lohi[0]], alphaMs[alphaM_lohi[1]], loggs[logg_lohi[1]], Teffs[Teff_lohi[0]]),\n",
    "    (FeHs[FeH_lohi[0]], alphaMs[alphaM_lohi[1]], loggs[logg_lohi[1]], Teffs[Teff_lohi[1]]),    \n",
    "    (FeHs[FeH_lohi[1]], alphaMs[alphaM_lohi[0]], loggs[logg_lohi[0]], Teffs[Teff_lohi[0]]),\n",
    "    (FeHs[FeH_lohi[1]], alphaMs[alphaM_lohi[0]], loggs[logg_lohi[0]], Teffs[Teff_lohi[1]]),\n",
    "    (FeHs[FeH_lohi[1]], alphaMs[alphaM_lohi[0]], loggs[logg_lohi[1]], Teffs[Teff_lohi[0]]),\n",
    "    (FeHs[FeH_lohi[1]], alphaMs[alphaM_lohi[0]], loggs[logg_lohi[1]], Teffs[Teff_lohi[1]]),\n",
    "    (FeHs[FeH_lohi[1]], alphaMs[alphaM_lohi[1]], loggs[logg_lohi[0]], Teffs[Teff_lohi[0]]),\n",
    "    (FeHs[FeH_lohi[1]], alphaMs[alphaM_lohi[1]], loggs[logg_lohi[0]], Teffs[Teff_lohi[1]]),\n",
    "    (FeHs[FeH_lohi[1]], alphaMs[alphaM_lohi[1]], loggs[logg_lohi[1]], Teffs[Teff_lohi[0]]),\n",
    "    (FeHs[FeH_lohi[1]], alphaMs[alphaM_lohi[1]], loggs[logg_lohi[1]], Teffs[Teff_lohi[1]]),\n",
    "\n",
    "        ]\n"
   ]
  },
  {
   "cell_type": "code",
   "execution_count": null,
   "metadata": {},
   "outputs": [],
   "source": [
    "def get_files(files, tempdir):\n",
    "    with FTP(\"phoenix.astro.physik.uni-goettingen.de\") as ftp:\n",
    "        ftp.login()\n",
    "\n",
    "        ftp.cwd(\"HiResFITS\")\n",
    "        #ftp.retrlines('LIST') \n",
    "        wavelength_grid = \"WAVE_PHOENIX-ACES-AGSS-COND-2011.fits\"\n",
    "        with open(tempdir / wavelength_grid, \"wb\") as fp:\n",
    "            ftp.retrbinary(\"RETR \" + wavelength_grid, fp.write)\n",
    "            \n",
    "            \n",
    "        datadir = \"PHOENIX-ACES-AGSS-COND-2011\"\n",
    "\n",
    "        for d,f in files:\n",
    "            ftp.cwd(f\"{datadir}/\"+d)\n",
    "            with open(tempdir / f, \"wb\") as fp:\n",
    "                ftp.retrbinary(\"RETR \" + f, fp.write)\n",
    "            ftp.cwd(\"../../\")"
   ]
  },
  {
   "cell_type": "code",
   "execution_count": null,
   "metadata": {},
   "outputs": [],
   "source": [
    "#with tempfile.TemporaryDirectory() as tmpdirname:\n",
    "tmpdirname = tempfile.mkdtemp()\n",
    "\n",
    "wavelength_grid = \"WAVE_PHOENIX-ACES-AGSS-COND-2011.fits\"\n",
    "    \n",
    "\n",
    "tempdir = Path(tmpdirname)\n",
    "get_files(files, tempdir)     "
   ]
  },
  {
   "cell_type": "code",
   "execution_count": null,
   "metadata": {},
   "outputs": [],
   "source": [
    "with fits.open(tempdir/wavelength_grid) as hdul:\n",
    "    wavelengths = hdul[0].data"
   ]
  },
  {
   "cell_type": "code",
   "execution_count": null,
   "metadata": {},
   "outputs": [],
   "source": [
    "spectra = []\n",
    "for d, f in files:\n",
    "    with fits.open(tempdir/files[0][1]) as hdul:\n",
    "        spectra.append(hdul[0].data)"
   ]
  },
  {
   "cell_type": "code",
   "execution_count": null,
   "metadata": {},
   "outputs": [],
   "source": [
    "grid = [\n",
    "    (FeHs[FeH_lohi[0]], alphaMs[alphaM_lohi[0]], loggs[logg_lohi[0]], Teffs[Teff_lohi[0]]),\n",
    "    (FeHs[FeH_lohi[0]], alphaMs[alphaM_lohi[0]], loggs[logg_lohi[0]], Teffs[Teff_lohi[1]]),\n",
    "    (FeHs[FeH_lohi[0]], alphaMs[alphaM_lohi[0]], loggs[logg_lohi[1]], Teffs[Teff_lohi[0]]),\n",
    "    (FeHs[FeH_lohi[0]], alphaMs[alphaM_lohi[0]], loggs[logg_lohi[1]], Teffs[Teff_lohi[1]]),\n",
    "    (FeHs[FeH_lohi[0]], alphaMs[alphaM_lohi[1]], loggs[logg_lohi[0]], Teffs[Teff_lohi[0]]),\n",
    "    (FeHs[FeH_lohi[0]], alphaMs[alphaM_lohi[1]], loggs[logg_lohi[0]], Teffs[Teff_lohi[1]]),\n",
    "    (FeHs[FeH_lohi[0]], alphaMs[alphaM_lohi[1]], loggs[logg_lohi[1]], Teffs[Teff_lohi[0]]),\n",
    "    (FeHs[FeH_lohi[0]], alphaMs[alphaM_lohi[1]], loggs[logg_lohi[1]], Teffs[Teff_lohi[1]]),    \n",
    "    (FeHs[FeH_lohi[1]], alphaMs[alphaM_lohi[0]], loggs[logg_lohi[0]], Teffs[Teff_lohi[0]]),\n",
    "    (FeHs[FeH_lohi[1]], alphaMs[alphaM_lohi[0]], loggs[logg_lohi[0]], Teffs[Teff_lohi[1]]),\n",
    "    (FeHs[FeH_lohi[1]], alphaMs[alphaM_lohi[0]], loggs[logg_lohi[1]], Teffs[Teff_lohi[0]]),\n",
    "    (FeHs[FeH_lohi[1]], alphaMs[alphaM_lohi[0]], loggs[logg_lohi[1]], Teffs[Teff_lohi[1]]),\n",
    "    (FeHs[FeH_lohi[1]], alphaMs[alphaM_lohi[1]], loggs[logg_lohi[0]], Teffs[Teff_lohi[0]]),\n",
    "    (FeHs[FeH_lohi[1]], alphaMs[alphaM_lohi[1]], loggs[logg_lohi[0]], Teffs[Teff_lohi[1]]),\n",
    "    (FeHs[FeH_lohi[1]], alphaMs[alphaM_lohi[1]], loggs[logg_lohi[1]], Teffs[Teff_lohi[0]]),\n",
    "    (FeHs[FeH_lohi[1]], alphaMs[alphaM_lohi[1]], loggs[logg_lohi[1]], Teffs[Teff_lohi[1]]),\n",
    "\n",
    "        ]"
   ]
  },
  {
   "cell_type": "code",
   "execution_count": null,
   "metadata": {},
   "outputs": [],
   "source": [
    "# FeH interpolation:\n",
    "spectra2 = []\n",
    "\n",
    "var_x = (FeHs[FeH_lohi[0]], FeHs[FeH_lohi[1]])\n",
    "coord_x = FeH\n",
    "rng = 8\n",
    "for i in range(rng):\n",
    "    if var_x[0] == var_x[1]:\n",
    "        spectra2.append(spectra[i])\n",
    "    else:\n",
    "        spectra2.append((spectra[i+rng] - spectra[i])/(var_x[1] - var_x[0])*(coord_x - var_x[0])+spectra[i] )"
   ]
  },
  {
   "cell_type": "code",
   "execution_count": null,
   "metadata": {},
   "outputs": [],
   "source": [
    "# alphaM interpolation:\n",
    "spectra3 = []\n",
    "\n",
    "var_x = (alphaMs[alphaM_lohi[0]], alphaMs[alphaM_lohi[1]])\n",
    "coord_x = alphaM\n",
    "\n",
    "rng = 4\n",
    "for i in range(rng):\n",
    "    if var_x[0] == var_x[1]:\n",
    "        spectra3.append(spectra2[i])\n",
    "    else:\n",
    "        spectra3.append((spectra2[i+rng] - spectra2[i])/(var_x[1] - var_x[0])*(coord_x - var_x[0])+spectra2[i] )"
   ]
  },
  {
   "cell_type": "code",
   "execution_count": null,
   "metadata": {},
   "outputs": [],
   "source": [
    "# logg interpolation:\n",
    "spectra4 = []\n",
    "\n",
    "var_x = (loggs[logg_lohi[0]], loggs[logg_lohi[1]])\n",
    "coord_x = logg\n",
    "\n",
    "rng = 2\n",
    "for i in range(rng):\n",
    "    if var_x[0] == var_x[1]:\n",
    "        spectra4.append(spectra3[i])\n",
    "    else:\n",
    "        spectra4.append((spectra3[i+rng] - spectra3[i])/(var_x[1] - var_x[0])*(coord_x - var_x[0])+spectra3[i] )"
   ]
  },
  {
   "cell_type": "code",
   "execution_count": null,
   "metadata": {},
   "outputs": [],
   "source": [
    "# Teff interpolation:\n",
    "spectra5 = []\n",
    "\n",
    "var_x = (Teffs[Teff_lohi[0]], Teffs[Teff_lohi[1]])\n",
    "coord_x = Teff\n",
    "\n",
    "rng = 1\n",
    "for i in range(rng):\n",
    "    if var_x[0] == var_x[1]:\n",
    "        spectra5.append(spectra4[i])\n",
    "    else:\n",
    "        spectra5.append((spectra4[i+rng] - spectra4[i])/(var_x[1] - var_x[0])*(coord_x - var_x[0])+spectra4[i] )"
   ]
  },
  {
   "cell_type": "code",
   "execution_count": null,
   "metadata": {},
   "outputs": [],
   "source": [
    "fig, ax = plt.subplots(1,1, figsize=(14,10))\n",
    "\n",
    "ax.plot(wavelengths, spectra5[0])\n",
    "\n"
   ]
  },
  {
   "cell_type": "code",
   "execution_count": null,
   "metadata": {},
   "outputs": [],
   "source": [
    "with h5py.File(\"interpolated_stellar_spectrum.h5\", \"w\") as f:\n",
    "    lambda_dset = f.create_dataset(\"wavelength\", (len(wavelengths),), dtype=np.float64)\n",
    "    flux_dset = f.create_dataset(\"flux\", spectra5[0].shape, dtype=np.float64)\n",
    "    lambda_dset[...] = wavelengths\n",
    "    flux_dset[...] = spectra5[0]"
   ]
  },
  {
   "cell_type": "code",
   "execution_count": null,
   "metadata": {},
   "outputs": [],
   "source": []
  }
 ],
 "metadata": {
  "kernelspec": {
   "display_name": "Python 3",
   "language": "python",
   "name": "python3"
  },
  "language_info": {
   "codemirror_mode": {
    "name": "ipython",
    "version": 3
   },
   "file_extension": ".py",
   "mimetype": "text/x-python",
   "name": "python",
   "nbconvert_exporter": "python",
   "pygments_lexer": "ipython3",
   "version": "3.8.3"
  }
 },
 "nbformat": 4,
 "nbformat_minor": 4
}
